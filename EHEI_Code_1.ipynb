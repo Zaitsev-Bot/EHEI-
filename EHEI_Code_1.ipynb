{
  "cells": [
    {
      "cell_type": "markdown",
      "metadata": {
        "colab_type": "text",
        "id": "view-in-github"
      },
      "source": [
        "<a href=\"https://colab.research.google.com/github/Zaitsev-Bot/EHEI-/blob/main/EHEI_Code_1.ipynb\" target=\"_parent\"><img src=\"https://colab.research.google.com/assets/colab-badge.svg\" alt=\"Open In Colab\"/></a>"
      ]
    },
    {
      "cell_type": "code",
      "execution_count": null,
      "metadata": {
        "colab": {
          "base_uri": "https://localhost:8080/"
        },
        "id": "b9fxh1MyGzQY",
        "outputId": "ccdd0e6b-c377-4224-d053-57278eb170c1"
      },
      "outputs": [],
      "source": [
        "print (\"Hello world\")\n",
        "age = input(\"how old are yout?\")\n",
        "print (\"You inputted \", age)\n"
      ]
    },
    {
      "cell_type": "code",
      "execution_count": null,
      "metadata": {
        "colab": {
          "base_uri": "https://localhost:8080/"
        },
        "id": "SoOYRAaAnuRJ",
        "outputId": "725cfb2d-98de-4aa8-fedc-bda9f43aa2d7"
      },
      "outputs": [],
      "source": [
        "f = 'hello'\n",
        "print (f)\n"
      ]
    },
    {
      "cell_type": "code",
      "execution_count": null,
      "metadata": {
        "colab": {
          "base_uri": "https://localhost:8080/"
        },
        "id": "FwmDMEn2ogdy",
        "outputId": "1e3077e0-90d4-445a-dab8-e5e2095aa03c"
      },
      "outputs": [],
      "source": [
        "x = 123 #this is an integer\n",
        "y= 1.23 #this is a float\n",
        "z= None #Null\n",
        "c= 'txt' #this is a string\n",
        "print('string type ' + str(123)) #to mix integer and string\n",
        "print('integer type ', int(x))\n",
        "print(x)\n",
        "print(y)\n",
        "print(z)\n",
        "print(c)\n",
        "\n",
        "\n"
      ]
    },
    {
      "cell_type": "code",
      "execution_count": null,
      "metadata": {
        "colab": {
          "base_uri": "https://localhost:8080/"
        },
        "id": "yI9mvpKdrzui",
        "outputId": "3e7a2f98-95f7-47b5-cdd6-9d7d7abadd2a"
      },
      "outputs": [],
      "source": [
        "def aFunction():\n",
        "  global n #this will be used across the program\n",
        "  n = None\n",
        "  print (n)\n",
        "\n",
        "aFunction()\n",
        "\n"
      ]
    },
    {
      "cell_type": "code",
      "execution_count": null,
      "metadata": {
        "colab": {
          "base_uri": "https://localhost:8080/"
        },
        "id": "MOk5LkwJvMbw",
        "outputId": "11400cdb-1089-4709-c18b-ea1241aa66c5"
      },
      "outputs": [],
      "source": [
        "def function1(arg1, arg2): #to declare variables inside a function\n",
        "  print (arg1, '//' , arg2)\n",
        "\n",
        "function1('i am Hassan', 'I am Ellen')\n"
      ]
    },
    {
      "cell_type": "code",
      "execution_count": null,
      "metadata": {
        "colab": {
          "base_uri": "https://localhost:8080/"
        },
        "id": "wjC5-tau6mRt",
        "outputId": "abfda9cc-f312-44b5-8960-ca4e6c9ab2f1"
      },
      "outputs": [],
      "source": [
        "def cubevalue(size): #to create a function to return a value\n",
        "  return size*size*size\n",
        "\n",
        "print(cubevalue(4))\n",
        "print(cubevalue(6))"
      ]
    },
    {
      "cell_type": "code",
      "execution_count": null,
      "metadata": {
        "colab": {
          "base_uri": "https://localhost:8080/"
        },
        "id": "HpyM1L4awX5s",
        "outputId": "9f729321-1e47-4be6-ac93-0666269b610a"
      },
      "outputs": [],
      "source": [
        "def cubevalue(): #to create a function to return a value\n",
        "  size = int(input('what is the size you want to cube?'))\n",
        "  return size*size*size\n",
        "\n",
        "print(cubevalue())\n"
      ]
    },
    {
      "cell_type": "code",
      "execution_count": null,
      "metadata": {
        "colab": {
          "base_uri": "https://localhost:8080/"
        },
        "id": "xNDt8yPpx0Jr",
        "outputId": "e98c24a9-c99b-460d-94d0-8c6d714e2c64"
      },
      "outputs": [],
      "source": [
        "# to use a function with multiple arguments\n",
        "def addNumbers(*args):\n",
        "  result = 0\n",
        "  for x in args:  # 'x' iterates over the values in 'args'\n",
        "    result = result + x # Add the current value of 'x' to 'result'\n",
        "  return result\n",
        "\n",
        "print(addNumbers(4, 10, 16, 51))"
      ]
    },
    {
      "cell_type": "code",
      "execution_count": null,
      "metadata": {
        "colab": {
          "base_uri": "https://localhost:8080/"
        },
        "id": "JfvTTLrrpWZA",
        "outputId": "7450a2ab-ffd6-4a97-f5cd-98575ab24e2f"
      },
      "outputs": [],
      "source": [
        "#conditional structure (if, elif, else)\n",
        "print('How old are you? ')\n",
        "age = input('how old are you? ')\n",
        "age = float(age) #transform to float or int to make the comparaison\n",
        "if (age<18):\n",
        "  print('you are a minor')\n",
        "elif (age == 18):\n",
        "  print('your are at the edge of becomming an mature')\n",
        "elif (age < 21):\n",
        "  print ('you are a small mature')\n",
        "else:\n",
        "  print('You are a mature')"
      ]
    },
    {
      "cell_type": "code",
      "execution_count": null,
      "metadata": {
        "colab": {
          "base_uri": "https://localhost:8080/"
        },
        "id": "5fbG5sn8st1M",
        "outputId": "8ddb1643-b23b-43f0-f740-af8ada3b8fae"
      },
      "outputs": [],
      "source": [
        "#While loop\n",
        "count = 0\n",
        "while (count < 3):\n",
        "  count = count + 1\n",
        "  print (count)"
      ]
    },
    {
      "cell_type": "code",
      "execution_count": null,
      "metadata": {
        "colab": {
          "base_uri": "https://localhost:8080/"
        },
        "id": "0z4i0B5b8Sq8",
        "outputId": "2818cb70-23ef-42a5-cf3d-ee6951d418e5"
      },
      "outputs": [],
      "source": [
        "#test\n",
        "till = int(input('till wich number you want me to count?'))\n",
        "i = 0\n",
        "while (i < (till)):\n",
        "  i = i + 1\n",
        "  print(i)\n"
      ]
    },
    {
      "cell_type": "code",
      "execution_count": null,
      "metadata": {
        "id": "r4QHEjsWth1I"
      },
      "outputs": [],
      "source": [
        "#For Loop\n",
        "i = 4\n",
        "for i in range (0, i):\n",
        "  print (i)\n"
      ]
    },
    {
      "cell_type": "code",
      "execution_count": null,
      "metadata": {
        "id": "MrqqRO9_u26Y"
      },
      "outputs": [],
      "source": [
        "#Nested Loop\n",
        "#Nested for loop\n",
        "i = 5\n",
        "for i in range (0, i):\n",
        "  for i in range (0, 2):\n",
        "    print (i)\n",
        "  print ('ii')\n"
      ]
    },
    {
      "cell_type": "code",
      "execution_count": null,
      "metadata": {
        "id": "AsTfD8XixRPs"
      },
      "outputs": [],
      "source": [
        "#if, elif, else\n",
        "x = input('x=')\n",
        "y = input('y=')\n",
        "if(x < y):\n",
        "  print('x is less than y')\n",
        "elif ( x == y):\n",
        "  print('x is equal to y')\n",
        "else:\n",
        "   print('x is bigger than y')"
      ]
    },
    {
      "cell_type": "code",
      "execution_count": null,
      "metadata": {
        "colab": {
          "base_uri": "https://localhost:8080/"
        },
        "id": "2TuBtW6s0RYM",
        "outputId": "47c41138-88eb-4a71-a1cb-25c58d37c80e"
      },
      "outputs": [],
      "source": [
        "#while statment\n",
        "x = input('x=')\n",
        "x = int(x)\n",
        "while ( x < 5):\n",
        "  print ('x')\n",
        "  x= x + 1\n"
      ]
    },
    {
      "cell_type": "code",
      "execution_count": null,
      "metadata": {
        "colab": {
          "base_uri": "https://localhost:8080/"
        },
        "id": "hTIt0PAm1NL0",
        "outputId": "1d20f8b7-29c7-4279-9a29-a4f0a43dd9eb"
      },
      "outputs": [],
      "source": [
        "#for loop\n",
        "days = ['Monday', 'Tuesday', 'Wednesday', 'Thursday', 'Friday', 'Saturday', 'Sunday']\n",
        "for x in days:\n",
        "  print (x) #it will work till the actual variables are finished"
      ]
    },
    {
      "cell_type": "code",
      "execution_count": null,
      "metadata": {
        "colab": {
          "base_uri": "https://localhost:8080/"
        },
        "id": "sDxo4C5i2PzM",
        "outputId": "d5dece7f-7fde-43cc-b2e5-2ff2d9478a68"
      },
      "outputs": [],
      "source": [
        "#Break and Continue\n",
        "for number in range (1, 10):\n",
        "  if (number % 2 == 0):\n",
        "      print ('the number is now', number)\n",
        "      continue\n",
        "  print(number)\n",
        "\n",
        "for number2 in range (1, 10):\n",
        "  if (number2 % 2 == 0):\n",
        "      print ('the number is now', number2)\n",
        "      break"
      ]
    },
    {
      "cell_type": "code",
      "execution_count": null,
      "metadata": {
        "colab": {
          "base_uri": "https://localhost:8080/"
        },
        "id": "n74MWm5BLAx1",
        "outputId": "6af01c7f-d2bb-40e6-dc4c-0651b555a5fc"
      },
      "outputs": [],
      "source": [
        "#f string (Hassan)\n",
        "print (\"Hello world\")\n",
        "age = int(input(\"how old are yout?\"))\n",
        "print (\"You inputted \", age)\n",
        "\n",
        "print (f'You are 1 year older than me, so you are {age + 1} years old')\n",
        "print ('You are 1 year onlder than me so you are', age + 1 , 'years old')\n"
      ]
    },
    {
      "cell_type": "code",
      "execution_count": null,
      "metadata": {
        "colab": {
          "base_uri": "https://localhost:8080/"
        },
        "id": "Lq14ko4q4Pnk",
        "outputId": "445c5b6b-228d-4783-f3c3-4dd9683cab87"
      },
      "outputs": [],
      "source": [
        "class aClass():\n",
        "    def methodOne(self):\n",
        "      print('this is method one of aClass')\n",
        "    def methodTwo(self, texti):\n",
        "      print('this is method two of aClass ' + texti)\n",
        "\n",
        "def main():\n",
        "    c1= aClass()\n",
        "    c1.methodOne()\n",
        "    c1.methodTwo('x some text')\n",
        "\n",
        "if __name__ == '__main__':\n",
        "  main()\n"
      ]
    },
    {
      "cell_type": "code",
      "execution_count": null,
      "metadata": {
        "id": "ggidLjGTTNCY"
      },
      "outputs": [],
      "source": [
        "#without __init__ ...........................................................\n",
        "\n",
        "class Person:\n",
        "    def greet(self):  # 'self' refers to the instance of the class\n",
        "        print(\"Hello, I am\", self.name)\n",
        "\n",
        "    def set_name(self, name):  # 'self' is needed to set an attribute to the specific instance\n",
        "        self.name = name  # Sets the name attribute for that instance\n",
        "\n",
        "# Create two instances of the class Person\n",
        "person1 = Person()\n",
        "person2 = Person()\n",
        "\n",
        "# Set names for the instances\n",
        "person1.set_name(\"Alice\")\n",
        "person2.set_name(\"Bob\")\n",
        "\n",
        "# Now each instance can greet with its own name\n",
        "person1.greet()  # Output: Hello, I am Alice\n",
        "person2.greet()  # Output: Hello, I am Bob\n",
        "\n",
        "# With __init__ ........................................................\n",
        "class Person:\n",
        "    def __init__(self, name):  # __init__ is the constructor that runs when the instance is created\n",
        "        self.name = name  # Sets the 'name' attribute when the instance is created\n",
        "\n",
        "    def greet(self):\n",
        "        print(f\"Hello, I am {self.name}\")\n",
        "\n",
        "# Create two instances of Person with names passed during creation\n",
        "person1 = Person(\"Alice\")\n",
        "person2 = Person(\"Bob\")\n",
        "\n",
        "# Now each instance can greet with its own name\n",
        "person1.greet()  # Output: Hello, I am Alice\n",
        "person2.greet()  # Output: Hello, I am Bob\n"
      ]
    },
    {
      "cell_type": "code",
      "execution_count": null,
      "metadata": {
        "colab": {
          "base_uri": "https://localhost:8080/"
        },
        "id": "6bf5BlEDUfFe",
        "outputId": "41478d35-d0d9-4062-ccb3-cb8c6183340f"
      },
      "outputs": [],
      "source": [
        "#Hassan ............................\n",
        "class Person:\n",
        "  def __init__(self, name, age, gender):\n",
        "    self.name = name\n",
        "    self.gender = gender\n",
        "    self.age = age\n",
        "\n",
        "  def greet(self):\n",
        "    print(f'Hello, my name is {self.name}, I am {self.age}, and I am a {self.gender}.')\n",
        "\n",
        "def Pax():\n",
        "\n",
        "  p1 = Person('Peter', 37, 'Male')\n",
        "  p2 = Person('Hassan', 38, 'Male')\n",
        "  p3 = Person('Hala', 30, 'Female')\n",
        "  return p1, p2, p3\n",
        "\n",
        "def ListOfPax(persons):\n",
        "  for person in persons:\n",
        "   person.greet()\n",
        "\n",
        "p1, p2, p3 = Pax()\n",
        "ListOfPax([p1, p2, p3])\n"
      ]
    },
    {
      "cell_type": "code",
      "execution_count": null,
      "metadata": {
        "colab": {
          "base_uri": "https://localhost:8080/"
        },
        "id": "eOpM4q-CVxyE",
        "outputId": "1eb71d56-8e5a-4369-d0a9-2e5a29d6ae1f"
      },
      "outputs": [],
      "source": [
        "# Hassan\n",
        "class person:\n",
        "  def __init__(self, name, age):\n",
        "    self.name = name\n",
        "    self.age = age\n",
        "\n",
        "  def greet(self):\n",
        "    print(f'Hello my name is {self.name} and I am {self.age} and i will be {self.age + 1} next year')\n",
        "\n",
        "def main():\n",
        "  p1 = person('Hassan', 37)\n",
        "  p1.greet()\n",
        "\n",
        "if __name__== '__main__':\n",
        "  main()\n"
      ]
    },
    {
      "cell_type": "code",
      "execution_count": null,
      "metadata": {
        "colab": {
          "base_uri": "https://localhost:8080/"
        },
        "id": "juYtet2oxrAA",
        "outputId": "b4bb0b43-08ff-4375-99cc-0b8a1df1e7a4"
      },
      "outputs": [],
      "source": [
        "import math\n",
        "\n",
        "class mathFunction:\n",
        "  def calculatePi(self):\n",
        "    print('The number of PI: ' , math.pi)\n",
        "  def calculateSqrt(self):\n",
        "    print('please entre a number: ')\n",
        "    n = input()\n",
        "    print('the square route of', n, 'is:' ,math.sqrt(int(n)))\n",
        "\n",
        "def main():\n",
        "    n = mathFunction()\n",
        "    n.calculatePi()\n",
        "    n.calculateSqrt()\n",
        "\n",
        "\n",
        "if __name__ == \"__main__\":\n",
        "  main()\n",
        "\n"
      ]
    },
    {
      "cell_type": "code",
      "execution_count": null,
      "metadata": {
        "colab": {
          "base_uri": "https://localhost:8080/"
        },
        "id": "zSzFYgvy0cXu",
        "outputId": "af2fa2c0-cff2-4da5-a655-0f385445e9b6"
      },
      "outputs": [],
      "source": [
        "import math\n",
        "\n",
        "class zikoFunction:\n",
        "  def calculatePi(self):\n",
        "    print('Pi is equal to', math.pi)\n",
        "    print('or Pi x2 is equal to: ', (math.pi*2))\n",
        "  def calculateSqrt(self):\n",
        "    print('please input a number: ')\n",
        "    n = (int(input()))\n",
        "    print ('the square of', n, 'is: ', math.sqrt(n))\n",
        "  def remainder(self):\n",
        "    print('please enter the first numner: ')\n",
        "    a = (int(input()))\n",
        "    print ('the second number is: ')\n",
        "    b = (int(input()))\n",
        "    print('the remainder of dividing', a , 'and', b , 'is', math.remainder(a,b))\n",
        "\n",
        "def ziko():\n",
        "  n = zikoFunction()\n",
        "  #n.calculatePi()\n",
        "  #n.calculateSqrt()\n",
        "  n.remainder()\n",
        "\n",
        "if __name__ == '__main__':\n",
        "  ziko()\n"
      ]
    },
    {
      "cell_type": "code",
      "execution_count": null,
      "metadata": {
        "colab": {
          "base_uri": "https://localhost:8080/"
        },
        "id": "I-gLge3l46yA",
        "outputId": "a8f18a6e-8bef-41dc-de55-02d62327f125"
      },
      "outputs": [],
      "source": [
        "from math import remainder, pi , sqrt\n",
        "\n",
        "class zikoFunction:\n",
        "  def calculatePi(self):\n",
        "    print('Pi is equal to', math.pi)\n",
        "    print('or Pi x2 is equal to: ', (math.pi*2))\n",
        "  def calculateSqrt(self):\n",
        "    print('please input a number: ')\n",
        "    n = (int(input()))\n",
        "    print ('the square of', n, 'is: ', math.sqrt(n))\n",
        "  def remainder(self):\n",
        "    print('please enter the first numner: ')\n",
        "    a = (int(input()))\n",
        "    print ('the second number is: ')\n",
        "    b = (int(input()))\n",
        "    print('the remainder of dividing', a , 'and', b , 'is', remainder(a,b))\n",
        "\n",
        "def ziko():\n",
        "  n = zikoFunction()\n",
        "  n.calculatePi()\n",
        "  n.calculateSqrt()\n",
        "  n.remainder()\n",
        "\n",
        "if __name__ == '__main__':\n",
        "  ziko()"
      ]
    },
    {
      "cell_type": "code",
      "execution_count": null,
      "metadata": {
        "colab": {
          "base_uri": "https://localhost:8080/"
        },
        "id": "eVqrPwel5WZD",
        "outputId": "7965a55e-ea8f-4f36-f557-7cb209b99826"
      },
      "outputs": [],
      "source": [
        "from datetime import date, time, datetime\n",
        "\n",
        "class workingWithDate:\n",
        "\n",
        "  global today\n",
        "  today = date.today()\n",
        "\n",
        "\n",
        "  def dateToday(self):\n",
        "    print('Today is: ', today)\n",
        "  def dateComponents(self):\n",
        "    print('Date components are:', today.day, today.month, today.year)\n",
        "  def todaWeekday(self):\n",
        "    print(\"Today's weekday number is:\" , today.weekday())\n",
        "    days = ['Mon', 'Tue', 'Wed', 'Thu', 'Fri', 'Sat', 'Sun']\n",
        "    print (\"Which is a \" + days[today.weekday()])\n",
        "  def currentDateTime(self):\n",
        "    time = datetime.now()\n",
        "    print(\"The current date and time is :\" , time)\n",
        "  def currentTime(self):\n",
        "    t= datetime.time(datetime.now())\n",
        "    print(\"the current time is:\", t)\n",
        "\n",
        "\n",
        "def main():\n",
        "   w = workingWithDate()\n",
        "   #w.dateToday()\n",
        "   #w.dateComponents()\n",
        "   #w.todaWeekday()\n",
        "   #w.currentDateTime()\n",
        "   w.currentTime()\n",
        "\n",
        "\n",
        "if __name__ == '__main__':\n",
        "  main()"
      ]
    },
    {
      "cell_type": "code",
      "execution_count": null,
      "metadata": {
        "id": "mXxUMBoU6GVn"
      },
      "outputs": [],
      "source": []
    },
    {
      "cell_type": "code",
      "execution_count": null,
      "metadata": {
        "colab": {
          "base_uri": "https://localhost:8080/"
        },
        "id": "KrECUypiAfB9",
        "outputId": "66cde6dc-08de-4a3c-b528-fd892008b992"
      },
      "outputs": [],
      "source": [
        "from datetime import date, time, datetime\n",
        "class Formatting:\n",
        "  global time\n",
        "  time = datetime.now()\n",
        "  def yearFormat(self):\n",
        "    print(time.strftime(\"The current year is %Y %y %M %m %D %d\"))\n",
        "\n",
        "def main():\n",
        "  f = Formatting()\n",
        "  f.yearFormat()\n",
        "\n",
        "if __name__ == '__main__':\n",
        "  main()"
      ]
    },
    {
      "cell_type": "code",
      "execution_count": null,
      "metadata": {
        "colab": {
          "base_uri": "https://localhost:8080/"
        },
        "id": "DRukIlYUf3NS",
        "outputId": "8b140fad-2dc2-4b5e-9e55-a7a25ea1afcc"
      },
      "outputs": [],
      "source": [
        "class pets:\n",
        "\n",
        "  def __init__(self, name, sound):\n",
        "    self.name = name\n",
        "    self.sound = sound\n",
        "  def makeSound(self):\n",
        "      print(f'{self.name} says {self.sound}')\n",
        "\n",
        "def main():\n",
        "  P1 = pets('dog', 'woof')\n",
        "  P2 = pets('cat', 'meow')\n",
        "  P3 = pets('parrot', 'tweet')\n",
        "  P4 = pets('snake', 'hiss')\n",
        "\n",
        "  #P1.makeSound()\n",
        "  #P2.makeSound()\n",
        "  #P3.makeSound()\n",
        "  #P4.makeSound()\n",
        "\n",
        "  print(\"please enter an animal name:\")\n",
        "  name = input()\n",
        "  if name == 'dog':\n",
        "    print(\"the dog's sound is: woof\")\n",
        "  elif name == 'cat':\n",
        "    print('meow')\n",
        "  elif name == 'parrot':\n",
        "    print('tweet')\n",
        "  elif name == 'snake':\n",
        "    print('hiss')\n",
        "  else:\n",
        "    print('unknown animal sound')\n",
        "\n",
        "if __name__ == '__main__':\n",
        "  main()\n",
        "\n"
      ]
    },
    {
      "cell_type": "code",
      "execution_count": null,
      "metadata": {
        "colab": {
          "base_uri": "https://localhost:8080/"
        },
        "id": "Fx5gi5TgoFIu",
        "outputId": "2e5d8261-ab2a-4a99-d066-455b2d5e478b"
      },
      "outputs": [],
      "source": [
        "from datetime import date, datetime, timedelta\n",
        "\n",
        "class workingwithdates:\n",
        "  global n\n",
        "  n = datetime.now()\n",
        "\n",
        "  def timedelta(self):\n",
        "    print (timedelta(days=365, hours=5, minutes=1))\n",
        "\n",
        "  def todaydate(self):\n",
        "    print(\"today is: \", n)\n",
        "    print(\"today is: \", str(n))\n",
        "\n",
        "  def oneyear(self):\n",
        "    print(\"It  will be: \", (n + timedelta(days=365)), \"in a year\")\n",
        "\n",
        "  def twoweeksfivedays(self):\n",
        "    print(\"It will be: \", (n + timedelta(weeks=2, days=5)), \"in two weeks and five days\")\n",
        "\n",
        "  def oneweekago(self):\n",
        "    t = n - timedelta(weeks=1)\n",
        "    s= t.strftime(\"%A, %b %d, %Y\")\n",
        "    print(\"One week ago it was:\", s)\n",
        "    #print(\"It was:\", (n - timedelta(weeks=1)), \"one week ago\")\n",
        "  def christmasday(self):\n",
        "    today = date.today()\n",
        "    xmas = date(today.year, 4, 25)\n",
        "    if xmas < today:\n",
        "      lastxmas = today - xmas\n",
        "      print(\"Christmass passed by\", lastxmas.days, \"days ago\")\n",
        "      xmas = xmas.replace(year=today.year + 1)\n",
        "    timetoxmas = xmas - today\n",
        "    print(\"Christmass is in\", timetoxmas.days, \"days\")\n",
        "\n",
        "\n",
        "\n",
        "\n",
        "def main ():\n",
        "  w = workingwithdates()\n",
        "  #w.timedelta()\n",
        "  #w.todaydate()\n",
        "  #w.oneyear()\n",
        "  #w.twoweeksfivedays()\n",
        "  #w.oneweekago()\n",
        "  w.christmasday()\n",
        "\n",
        "\n",
        "\n",
        "if __name__ == \"__main__\":\n",
        "  main()"
      ]
    },
    {
      "cell_type": "code",
      "execution_count": null,
      "metadata": {
        "colab": {
          "base_uri": "https://localhost:8080/",
          "height": 339
        },
        "id": "deMsovltrkhD",
        "outputId": "9a8a59d2-5874-494b-a41c-d1b984128b8b"
      },
      "outputs": [],
      "source": [
        "import datetime\n",
        "import calendar\n",
        "\n",
        "class WorkingWithCalendar:\n",
        "    cal = calendar.TextCalendar(calendar.SUNDAY)  # Class variable\n",
        "\n",
        "    def text_calendar(self):\n",
        "        t = self.cal.formatmonth(2020, 12)\n",
        "        print(t)\n",
        "\n",
        "    def html_calendar(self):\n",
        "        htm = calendar.HTMLCalendar(calendar.SUNDAY)\n",
        "        h = htm.formatmonth(2020, 12)\n",
        "        print(h)\n",
        "\n",
        "    def iterate_months(self):\n",
        "        for i in self.cal.itermonthdays(2020, 12):\n",
        "            print(i)\n",
        "\n",
        "    def month_name(self):\n",
        "        for n in calendar.month_name[1:]:  # Skip the empty first element\n",
        "            print(n)\n",
        "\n",
        "    def month_abbr(self):\n",
        "        for n in calendar.month_abbr[1:]:  # Skip the empty first element\n",
        "            print(n)\n",
        "\n",
        "    def webinar(self):\n",
        "        print(\"Webinars held in 2021:\")\n",
        "        for m in range(1, 13):\n",
        "            c = self.cal.monthcalendar(2021, m)\n",
        "            weekone = c[0]\n",
        "            weektwo = c[1] if len(c) > 1 else c[0]\n",
        "            webinar = weekone[calendar.SATURDAY] if weekone[calendar.SATURDAY] != 0 else weektwo[calendar.SATURDAY]\n",
        "            print(f\"{calendar.month_name[m]} {webinar}\")\n",
        "\n",
        "def main():\n",
        "    #exc = WorkingWithCalendar()\n",
        "    #exc.text_calendar()\n",
        "    #exc.html_calendar()\n",
        "    #exc.iterate_months()\n",
        "    exc.month_name()\n",
        "    exc.month_abbr()\n",
        "    exc.webinar()\n",
        "\n",
        "if __name__ == \"__main__\":\n",
        "    main()"
      ]
    },
    {
      "cell_type": "code",
      "execution_count": null,
      "metadata": {
        "id": "1pXKDr5ByMgP"
      },
      "outputs": [],
      "source": [
        "class workingWithFiles:\n",
        "\n",
        "  def openFile(self):\n",
        "    f = open(\"textfile.txt\", \"w+\")\n",
        "    workingWithFiles.writeTextToFile(self, f)\n",
        "    #or\n",
        "    #self.writeTextToFile(f)\n",
        "\n",
        "\n",
        "  def writeTextToFile(self, a):\n",
        "    for i in range(10):\n",
        "      a.write(\"this is line %d\\n\" % (i+1))\n",
        "      #or\n",
        "      #x = i + 1\n",
        "      #f.write(f\"this is line {x}\\n\")\n",
        "    a.close()\n",
        "\n",
        "\n",
        "\n",
        "def main():\n",
        "  exc= workingWithFiles()\n",
        "  exc.openFile()\n",
        "if __name__ == \"__main__\":\n",
        "  main()"
      ]
    },
    {
      "cell_type": "code",
      "execution_count": null,
      "metadata": {
        "id": "WmyI9SDfR8LC"
      },
      "outputs": [],
      "source": [
        "# Class Definition (the blueprint)\n",
        "class Car:\n",
        "    def __init__(self, brand, color):\n",
        "        # Attributes (variables that store data)\n",
        "        self.brand = brand  # Brand of the car\n",
        "        self.color = color  # Color of the car\n",
        "\n",
        "    # Method (an action the car can perform)\n",
        "    def start(self):\n",
        "        print(f\"The {self.color} {self.brand} car is starting.\")\n",
        "\n",
        "    # Method (another action)\n",
        "    def stop(self):\n",
        "        print(f\"The {self.color} {self.brand} car is stopping.\")\n",
        "\n",
        "# Creating an Object / Instance (building a specific car from the blueprint)\n",
        "my_car = Car(\"Toyota\", \"red\")  # This is an instance of the Car class\n",
        "your_car = Car(\"Honda\", \"blue\")  # Another instance of the Car class\n",
        "\n",
        "# Accessing Attributes of the Object\n",
        "print(my_car.brand)  # Output: Toyota\n",
        "print(your_car.color)  # Output: blue\n",
        "\n",
        "# Calling Methods on the Object\n",
        "my_car.start()  # Output: The red Toyota car is starting.\n",
        "your_car.stop()  # Output: The blue Honda car is stopping."
      ]
    },
    {
      "cell_type": "code",
      "execution_count": null,
      "metadata": {
        "id": "robHEgywwmfG"
      },
      "outputs": [],
      "source": [
        "class workingWithFiles:\n",
        "\n",
        "    #Purpose: This method below is responsible for opening a file.\n",
        "    def openFile(self):\n",
        "        # Open the file and return the file object, using the variable name 'f'\n",
        "        f = open(\"textfile2.txt\", \"w+\")\n",
        "        return f  # Return the file object for later use\n",
        "\n",
        "    #Purpose: This method below writes data to the fil.e.\n",
        "    def writeTextToFile(self, a):\n",
        "        # Write 10 lines to the file, using the variable name 'a'\n",
        "        for i in range(10):\n",
        "            a.write(\"this is line %d\\n\" % (i + 1))\n",
        "        a.close()  # Close the file after writing\n",
        "\n",
        "    #Purpose: This method coordinates the process of opening the file and then writing to it.\n",
        "    def openAndWrite(self):\n",
        "        # This method handles opening the file and writing to it\n",
        "        b = self.openFile()  # Call 'openFile', but assign it to 'b'\n",
        "        self.writeTextToFile(b)  # Pass 'b' to 'writeTextToFile'\n",
        "\n",
        "#Purpose: This function serves as the entry point of the program.\n",
        "def main():\n",
        "    # Create an instance of the class and call the openAndWrite method\n",
        "    exc = workingWithFiles()\n",
        "    exc.openAndWrite()\n",
        "\n",
        "if __name__ == \"__main__\":\n",
        "    main()"
      ]
    },
    {
      "cell_type": "code",
      "execution_count": null,
      "metadata": {
        "id": "iBHcC4JAOR6O"
      },
      "outputs": [],
      "source": [
        "class workingWithFiles: #Blueprint\n",
        "\n",
        "    def openFile(self): #method 1 = Action 1\n",
        "\n",
        "        f = open(\"textfile3.txt\", \"w+\")\n",
        "        return f\n",
        "\n",
        "    def writeTextToFile(self, a): #method 2 = Action 2\n",
        "\n",
        "        for i in range(10):\n",
        "            a.write(\"this is line %d\\n\" % (i + 1))\n",
        "        a.close()\n",
        "\n",
        "def main():\n",
        "    exc = workingWithFiles() #exe is an instance of the class (an object)\n",
        "    varf = exc.openFile() # Call openFile and store the returned file object in varf\n",
        "    exc.writeTextToFile(varf) # Pass the file object to writeTextToFile for writing\n",
        "\n",
        "if __name__ == \"__main__\":\n",
        "    main()"
      ]
    },
    {
      "cell_type": "code",
      "execution_count": null,
      "metadata": {
        "colab": {
          "base_uri": "https://localhost:8080/"
        },
        "id": "sJ9xBe6mTlQr",
        "outputId": "bea87ba7-2544-4937-fdda-bb3373403f0f"
      },
      "outputs": [],
      "source": [
        "import os  # Import the os module\n",
        "from os import path  # Import the path module to use path.exists()\n",
        "import time  # Import the time module to get file modification time\n",
        "import datetime  # Import datetime module for calculating time differences\n",
        "\n",
        "\n",
        "class workingWithOs:\n",
        "\n",
        "  def fileCheck(self):\n",
        "    print(\"Item exists: \" + str(path.exists(\"textfile.txt\")))\n",
        "    print(\"Item is a file: \" + str(path.isfile(\"textfile.txt\")))\n",
        "    print(\"Item is a directory: \" + str(path.isdir(\"textfile.txt\"))) #dir = folder\n",
        "\n",
        "  def pathFile(self):\n",
        "    print(\"Item's path: \" + str(path.realpath(\"textfile.txt\")))\n",
        "    print(\"Item's path and name \" + str(path.split(path.realpath(\"textfile.txt\"))))\n",
        "\n",
        "\n",
        "  def modificationTime(self):\n",
        "    t = time.ctime(path.getmtime(\"textfile.txt\"))\n",
        "    print(t)\n",
        "\n",
        "  def modData(self):\n",
        "    td = datetime.datetime.now() - datetime.datetime.fromtimestamp(path.getmtime(\"textfile.txt\"))\n",
        "    print(\"It has been :\", str(td) , \"since the file was modified\")\n",
        "    print(\"It has been \", str(td.total_seconds()) + \" seconds\")\n",
        "\n",
        "\n",
        "def main():\n",
        "  exc = workingWithOs() #exe is an instance of the class (an object)\n",
        "  #exc.fileCheck()\n",
        "  #exc.pathFile()\n",
        "  #exc.modificationTime()\n",
        "  exc.modData()\n",
        "\n",
        "if __name__ == \"__main__\":\n",
        "    main()"
      ]
    },
    {
      "cell_type": "code",
      "execution_count": null,
      "metadata": {
        "colab": {
          "base_uri": "https://localhost:8080/"
        },
        "id": "ltkYOj1kW7Zm",
        "outputId": "af411b39-c7a3-4f4e-8d29-290f6558393d"
      },
      "outputs": [],
      "source": [
        "import os\n",
        "from os import path\n",
        "import shutil\n",
        "from zipfile import ZipFile\n",
        "import time\n",
        "import urllib.request\n",
        "import urllib.parse\n",
        "\n",
        "class workingWithShell():\n",
        "  global fileName\n",
        "  fileName = \"textfile.txt\"\n",
        "\n",
        "  def makeCopy(self):\n",
        "    if path.exists(fileName):\n",
        "        src = path.realpath(fileName);\n",
        "\n",
        "        dst = src + \".bak\"\n",
        "        shutil.copy(src, dst)\n",
        "\n",
        "  def getData(self):\n",
        "    src = path.realpath(fileName);\n",
        "    dst = src + \".bak\"\n",
        "    print(\"Details of the dst file:\")\n",
        "    print(\"last modification on\", str(time.ctime(path.getmtime(dst))))\n",
        "    print(\"last access time: \", str(time.ctime(path.getatime(dst))))\n",
        "    print(\"Creation time:\", str(time.ctime(path.getctime(dst))))\n",
        "\n",
        "    print(\"\\nDetails of the dst file:\")\n",
        "    print(\"last modification on\", str(time.ctime(path.getmtime(src))))\n",
        "    print(\"last access time: \", str(time.ctime(path.getatime(src))))\n",
        "    print(\"Creation time:\", str(time.ctime(path.getctime(src))))\n",
        "\n",
        "  def reName(self):\n",
        "    newfileName = \"newfile.txt\"\n",
        "    if path.exists(fileName):\n",
        "      os.rename(fileName, newfileName)\n",
        "      src = path.realpath(newfileName);\n",
        "      print(\"Your old file\", fileName, \"has been changed to:\", src)\n",
        "    else:\n",
        "      print(\"File not found\")\n",
        "\n",
        "  def makeZip(self):\n",
        "    with ZipFile(\"testzip.zip\", \"w\") as newzip:\n",
        "      newzip.write(\"newfile.txt\")\n",
        "      newzip.write(\"textfile.txt.bak\")\n",
        "\n",
        "class workingWithHTML:\n",
        "  global webUrl\n",
        "  webUrl = urllib.request.urlopen(\"http://www.google.com\")\n",
        "\n",
        "  def openUrl(self):\n",
        "      print(\"result code: \" + str(webUrl.getcode()))\n",
        "\n",
        "      data = webUrl.read()\n",
        "      print(data)\n",
        "\n",
        "  def readHeader(self):\n",
        "    print(webUrl.info())\n",
        "    print(\"Response server =\", webUrl.info()[\"server\"])\n",
        "    print(\"Response date =\", webUrl.info()[\"Date\"])\n",
        "    print(\"Response content type =\", webUrl.info()[\"Content-type\"])\n",
        "\n",
        "def main():\n",
        "  w = workingWithShell()\n",
        "  x = workingWithHTML()\n",
        "  # w.makeCopy()\n",
        "  # w.getData()\n",
        "  #w.reName()\n",
        "  #w.makeZip()\n",
        "  #x.openUrl() # if we get 200: all went well if we get 400: there is a problem with the site\n",
        "  x.readHeader()\n",
        "\n",
        "if __name__ == \"__main__\":\n",
        "  main()"
      ]
    },
    {
      "cell_type": "code",
      "execution_count": null,
      "metadata": {
        "colab": {
          "base_uri": "https://localhost:8080/"
        },
        "id": "CApc10Khoe0j",
        "outputId": "46afe5a2-2358-43bd-a5da-676a89418302"
      },
      "outputs": [],
      "source": [
        "import json\n",
        "import urllib.request\n",
        "\n",
        "\n",
        "global urlData, webUrl, data, theJSON\n",
        "urlData = \"https://earthquake.usgs.gov/earthquakes/feed/v1.0/summary/all_day.geojson\"\n",
        "webUrl = urllib.request.urlopen(urlData)\n",
        "data = webUrl.read().decode(\"utf-8\")\n",
        "theJSON = json.loads(data)\n",
        "\n",
        "class earthQuakes():\n",
        "  def printresults(self):\n",
        "    global webUrl\n",
        "    print(\"result code: \" +str(webUrl.getcode()))\n",
        "    if webUrl.getcode() == 200:\n",
        "      if \"title\" in theJSON[\"metadata\"]:\n",
        "       print(theJSON[\"metadata\"][\"title\"])\n",
        "      else:\n",
        "       print(\"Received an error message from the server: \" + str(webUrl.getcode()))\n",
        "\n",
        "  def numberOfEvents(self):\n",
        "      count = theJSON[\"metadata\"][\"count\"]\n",
        "      print(str(count) + \"events recorded\")\n",
        "\n",
        "  def location(self):\n",
        "    for i in theJSON[\"features\"]:\n",
        "      print(\"loaction:\", i[\"properties\"][\"place\"])\n",
        "      print(\"-------------\")\n",
        "\n",
        "  def magFour(self):\n",
        "    for i in theJSON[\"features\"]:\n",
        "      if i[\"properties\"][\"mag\"]>= 4.0:\n",
        "        print(\"Magnitude: \", i[\"properties\"][str(\"mag\")])\n",
        "        print(\"Location: \", i[\"properties\"][\"place\"])\n",
        "        print(\"----------------\")\n",
        "\n",
        "  def feltReport (self):\n",
        "    print(\"\\nEvents that were felt:\")\n",
        "    for i in theJSON[\"features\"]:\n",
        "      feltReports = i[\"properties\"][\"felt\"]\n",
        "      if feltReports != None:\n",
        "        print(\"Magniture:\", i[\"properties\"][\"mag\"], \"\\nLocation:\", i[\"properties\"][\"place\"], \"\\nReported\", feltReports, \"%s\" % (\"time\\n\" if feltReports == 1 else \"times\\n\"))\n",
        "\n",
        "def main():\n",
        "  e = earthQuakes()\n",
        "  #e.printresults()\n",
        "  #e.numberOfEvents()\n",
        "  #e.location()\n",
        "  #e.magFour()\n",
        "  e.feltReport()\n",
        "\n",
        "if __name__ == \"__main__\":\n",
        "  main()"
      ]
    },
    {
      "cell_type": "code",
      "execution_count": null,
      "metadata": {
        "id": "iJB4u1C3L7dK"
      },
      "outputs": [],
      "source": []
    }
  ],
  "metadata": {
    "colab": {
      "include_colab_link": true,
      "provenance": []
    },
    "kernelspec": {
      "display_name": "Python 3",
      "name": "python3"
    },
    "language_info": {
      "name": "python"
    }
  },
  "nbformat": 4,
  "nbformat_minor": 0
}
